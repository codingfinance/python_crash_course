{
 "cells": [
  {
   "cell_type": "code",
   "execution_count": 1,
   "id": "7dd61d43",
   "metadata": {},
   "outputs": [
    {
     "name": "stdout",
     "output_type": "stream",
     "text": [
      "Hello\n"
     ]
    }
   ],
   "source": [
    "def greet_user():\n",
    "    \n",
    "    \"\"\"Display a simple greeting.\"\"\"\n",
    "    \n",
    "    print(\"Hello\")\n",
    "    \n",
    "greet_user()"
   ]
  },
  {
   "cell_type": "code",
   "execution_count": 3,
   "id": "4448ea13",
   "metadata": {},
   "outputs": [
    {
     "name": "stdout",
     "output_type": "stream",
     "text": [
      "Hello, Jake.\n"
     ]
    }
   ],
   "source": [
    "def greet_user(name):\n",
    "    \n",
    "    \"\"\"Display a simple greeting.\"\"\"\n",
    "    \n",
    "    print(f\"Hello, {name.title()}.\")\n",
    "    \n",
    "greet_user(\"Jake\")"
   ]
  },
  {
   "cell_type": "code",
   "execution_count": 4,
   "id": "09f85743",
   "metadata": {},
   "outputs": [
    {
     "name": "stdout",
     "output_type": "stream",
     "text": [
      "Hello, Wilis.\n"
     ]
    }
   ],
   "source": [
    "greet_user(\"wilis\")"
   ]
  },
  {
   "cell_type": "code",
   "execution_count": 5,
   "id": "34cd618c",
   "metadata": {},
   "outputs": [
    {
     "name": "stdout",
     "output_type": "stream",
     "text": [
      "\n",
      "I have a Dog.\n",
      "My Dog's name is Pluto.\n"
     ]
    }
   ],
   "source": [
    "def describe_pet(animal_type, pet_name):\n",
    "    \"\"\"Display information about a pet.\"\"\"\n",
    "    \n",
    "    print(f\"\\nI have a {animal_type}.\")\n",
    "    print(f\"My {animal_type}'s name is {pet_name.title()}.\")\n",
    "    \n",
    "describe_pet(\"Dog\", \"Pluto\")"
   ]
  },
  {
   "cell_type": "markdown",
   "id": "b5ec29bd",
   "metadata": {},
   "source": [
    "## 08-03 T-Shirt"
   ]
  },
  {
   "cell_type": "code",
   "execution_count": 6,
   "id": "01b428c1",
   "metadata": {},
   "outputs": [],
   "source": [
    "def make_shirt(size, text):\n",
    "    \n",
    "    print(f\"The size of the T-shirt is {size} and it print is {text}\")"
   ]
  },
  {
   "cell_type": "code",
   "execution_count": 10,
   "id": "7015680c",
   "metadata": {},
   "outputs": [
    {
     "name": "stdout",
     "output_type": "stream",
     "text": [
      "The size of the T-shirt is large and it print is Hello\n"
     ]
    }
   ],
   "source": [
    "make_shirt('large', \"Hello\")"
   ]
  },
  {
   "cell_type": "code",
   "execution_count": 9,
   "id": "dc235a04",
   "metadata": {},
   "outputs": [
    {
     "name": "stdout",
     "output_type": "stream",
     "text": [
      "The size of the T-shirt is small and it print is Hello\n"
     ]
    }
   ],
   "source": [
    "make_shirt(text = \"Hello\", size = 'small')"
   ]
  },
  {
   "cell_type": "code",
   "execution_count": 12,
   "id": "4156d737",
   "metadata": {},
   "outputs": [],
   "source": [
    "def large_shirt(size = \"Large\", text = \"Python\"):\n",
    "    print(f\"The size of the T-shirt is {size} and it print is {text}\")"
   ]
  },
  {
   "cell_type": "code",
   "execution_count": 13,
   "id": "d00a3114",
   "metadata": {},
   "outputs": [
    {
     "name": "stdout",
     "output_type": "stream",
     "text": [
      "The size of the T-shirt is Large and it print is Python\n"
     ]
    }
   ],
   "source": [
    "large_shirt()"
   ]
  },
  {
   "cell_type": "code",
   "execution_count": 15,
   "id": "ef195390",
   "metadata": {},
   "outputs": [],
   "source": [
    "def describe_cities(city, country):\n",
    "    \n",
    "    print(f\"{city} is in {country}!\")\n",
    "    \n",
    "    "
   ]
  },
  {
   "cell_type": "code",
   "execution_count": 16,
   "id": "10cb84fe",
   "metadata": {},
   "outputs": [
    {
     "name": "stdout",
     "output_type": "stream",
     "text": [
      "Cairo is in Egypt!\n"
     ]
    }
   ],
   "source": [
    "describe_cities(\"Cairo\", \"Egypt\")"
   ]
  },
  {
   "cell_type": "code",
   "execution_count": 17,
   "id": "87acac40",
   "metadata": {},
   "outputs": [
    {
     "name": "stdout",
     "output_type": "stream",
     "text": [
      "Paris is in France!\n"
     ]
    }
   ],
   "source": [
    "describe_cities(\"Paris\", \"France\")"
   ]
  },
  {
   "cell_type": "markdown",
   "id": "ad96bcc6",
   "metadata": {},
   "source": [
    "Get formatted names"
   ]
  },
  {
   "cell_type": "code",
   "execution_count": 19,
   "id": "15774ae1",
   "metadata": {},
   "outputs": [],
   "source": [
    "def get_formatted_name(first_name, last_name):\n",
    "    \n",
    "    full_name = f\"{first_name.title()} {last_name.title()}\"\n",
    "    \n",
    "    return full_name"
   ]
  },
  {
   "cell_type": "code",
   "execution_count": 21,
   "id": "49bd702f",
   "metadata": {},
   "outputs": [
    {
     "data": {
      "text/plain": [
       "'Price Mike'"
      ]
     },
     "execution_count": 21,
     "metadata": {},
     "output_type": "execute_result"
    }
   ],
   "source": [
    "get_formatted_name(\"price\", \"mike\")"
   ]
  },
  {
   "cell_type": "code",
   "execution_count": 24,
   "id": "9ef253b1",
   "metadata": {},
   "outputs": [
    {
     "name": "stdout",
     "output_type": "stream",
     "text": [
      "Hello, Hannah!\n",
      "Hello, Ty!\n",
      "Hello, Margot!\n"
     ]
    }
   ],
   "source": [
    "def greet_users(names):\n",
    "    \"\"\"Print a simple greeting to each user in the list.\"\"\"\n",
    "    for name in names:\n",
    "        msg = f\"Hello, {name.title()}!\"\n",
    "        print(msg)\n",
    "\n",
    "usernames = ['hannah', 'ty', 'margot']\n",
    "greet_users(usernames)"
   ]
  },
  {
   "cell_type": "code",
   "execution_count": null,
   "id": "ff7b2e3b",
   "metadata": {},
   "outputs": [],
   "source": []
  }
 ],
 "metadata": {
  "kernelspec": {
   "display_name": "Python 3 (ipykernel)",
   "language": "python",
   "name": "python3"
  },
  "language_info": {
   "codemirror_mode": {
    "name": "ipython",
    "version": 3
   },
   "file_extension": ".py",
   "mimetype": "text/x-python",
   "name": "python",
   "nbconvert_exporter": "python",
   "pygments_lexer": "ipython3",
   "version": "3.9.7"
  }
 },
 "nbformat": 4,
 "nbformat_minor": 5
}
