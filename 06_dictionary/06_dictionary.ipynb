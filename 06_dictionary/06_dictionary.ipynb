{
 "cells": [
  {
   "cell_type": "code",
   "execution_count": 1,
   "id": "dfcba005",
   "metadata": {},
   "outputs": [
    {
     "name": "stdout",
     "output_type": "stream",
     "text": [
      "{'color': 'green', 'points': 5}\n"
     ]
    }
   ],
   "source": [
    "alien = {'color': 'green',\n",
    "        'points': 5}\n",
    "\n",
    "print(alien)"
   ]
  },
  {
   "cell_type": "markdown",
   "id": "92192f69",
   "metadata": {},
   "source": [
    "“Accessing Values in a Dictionary”"
   ]
  },
  {
   "cell_type": "code",
   "execution_count": 2,
   "id": "03ab965d",
   "metadata": {},
   "outputs": [
    {
     "name": "stdout",
     "output_type": "stream",
     "text": [
      "green\n",
      "5\n"
     ]
    }
   ],
   "source": [
    "print(alien['color'])\n",
    "print(alien['points'])"
   ]
  },
  {
   "cell_type": "markdown",
   "id": "fe70e79c",
   "metadata": {},
   "source": [
    "Add new key-value pairs"
   ]
  },
  {
   "cell_type": "code",
   "execution_count": 3,
   "id": "0b0a483b",
   "metadata": {},
   "outputs": [
    {
     "name": "stdout",
     "output_type": "stream",
     "text": [
      "Alien before -> {'color': 'green', 'points': 5}\n",
      "\n",
      "Alien after -> {'color': 'green', 'points': 5, 'x_position': 0, 'y_position': 25}\n"
     ]
    }
   ],
   "source": [
    "print(f\"Alien before -> {alien}\\n\")\n",
    "alien['x_position'] = 0\n",
    "alien['y_position'] = 25\n",
    "\n",
    "print(f\"Alien after -> {alien}\")"
   ]
  },
  {
   "cell_type": "markdown",
   "id": "a05a8cbc",
   "metadata": {},
   "source": [
    "Modifying the values of a dictionary"
   ]
  },
  {
   "cell_type": "code",
   "execution_count": 4,
   "id": "b872ac8b",
   "metadata": {},
   "outputs": [
    {
     "name": "stdout",
     "output_type": "stream",
     "text": [
      "Alien color before -> {'color': 'green', 'points': 5, 'x_position': 0, 'y_position': 25}\n",
      "Alien color after -> {'color': 'yellow', 'points': 5, 'x_position': 0, 'y_position': 25}\n"
     ]
    }
   ],
   "source": [
    "print(f\"Alien color before -> {alien}\")\n",
    "\n",
    "alien['color'] = \"yellow\"\n",
    "\n",
    "print(f\"Alien color after -> {alien}\")"
   ]
  },
  {
   "cell_type": "code",
   "execution_count": 5,
   "id": "8fe7df31",
   "metadata": {},
   "outputs": [
    {
     "data": {
      "text/plain": [
       "{'x_position': 0, 'y_position': 25, 'speed': 'medium'}"
      ]
     },
     "execution_count": 5,
     "metadata": {},
     "output_type": "execute_result"
    }
   ],
   "source": [
    "alien = dict(x_position = 0,\n",
    "            y_position = 25,\n",
    "            speed = \"medium\")\n",
    "alien"
   ]
  },
  {
   "cell_type": "code",
   "execution_count": 6,
   "id": "a69d9db1",
   "metadata": {},
   "outputs": [
    {
     "name": "stdout",
     "output_type": "stream",
     "text": [
      "{'x_position': 2, 'y_position': 25, 'speed': 'medium'}\n"
     ]
    }
   ],
   "source": [
    "if alien['speed'] == \"slow\":\n",
    "    x_increment = 1\n",
    "elif alien['speed'] == 'medium':\n",
    "    x_increment = 2\n",
    "else:\n",
    "    x_increment = 3\n",
    "\n",
    "alien['x_position'] = alien['x_position'] + x_increment\n",
    "\n",
    "print(alien)"
   ]
  },
  {
   "cell_type": "code",
   "execution_count": 7,
   "id": "a031f57d",
   "metadata": {},
   "outputs": [
    {
     "name": "stdout",
     "output_type": "stream",
     "text": [
      "{'x_position': 2, 'y_position': 25, 'speed': 'medium'}\n"
     ]
    }
   ],
   "source": [
    "print(alien)"
   ]
  },
  {
   "cell_type": "markdown",
   "id": "1dd51fee",
   "metadata": {},
   "source": [
    "Removing the Key-Value Pairs"
   ]
  },
  {
   "cell_type": "code",
   "execution_count": 8,
   "id": "53d4df39",
   "metadata": {},
   "outputs": [
    {
     "name": "stdout",
     "output_type": "stream",
     "text": [
      "{'color': 'green', 'points': 5}\n",
      "{'color': 'green'}\n"
     ]
    }
   ],
   "source": [
    "alien = dict(color = 'green',\n",
    "            points = 5)\n",
    "\n",
    "print(alien)\n",
    "\n",
    "del alien['points']\n",
    "\n",
    "print(alien)"
   ]
  },
  {
   "cell_type": "markdown",
   "id": "5efbf3ac",
   "metadata": {},
   "source": [
    "A dictionary of similar objects"
   ]
  },
  {
   "cell_type": "code",
   "execution_count": 9,
   "id": "fef6cc13",
   "metadata": {},
   "outputs": [
    {
     "name": "stdout",
     "output_type": "stream",
     "text": [
      "{'jen': 'python', 'sarah': 'c', 'edward': 'rust', 'phil': 'python'} \n",
      "\n",
      "Sarah's favorite language is C.\n"
     ]
    }
   ],
   "source": [
    "favorite_language = {\n",
    "    'jen': 'python',\n",
    "    'sarah': 'c',\n",
    "    'edward': 'rust',\n",
    "    'phil': 'python'\n",
    "}\n",
    "\n",
    "print(favorite_language, '\\n')\n",
    "\n",
    "# Get Sarah's favorite language\n",
    "\n",
    "print(f\"Sarah's favorite language is {favorite_language['sarah'].title()}.\")"
   ]
  },
  {
   "cell_type": "markdown",
   "id": "61b2dcfb",
   "metadata": {},
   "source": [
    "Using get() to Access Value"
   ]
  },
  {
   "cell_type": "code",
   "execution_count": 10,
   "id": "fb504c42",
   "metadata": {},
   "outputs": [
    {
     "name": "stdout",
     "output_type": "stream",
     "text": [
      "Key does not exist\n",
      "\n",
      "None\n"
     ]
    }
   ],
   "source": [
    "alien = dict(color = 'green',\n",
    "            speed = 'slow')\n",
    "\n",
    "try:\n",
    "    alien['points']\n",
    "except:\n",
    "    print(\"Key does not exist\\n\")\n",
    "    \n",
    "print(alien.get(\"points\"))"
   ]
  },
  {
   "cell_type": "markdown",
   "id": "ac1272c8",
   "metadata": {},
   "source": [
    "### 6-1 Person"
   ]
  },
  {
   "cell_type": "code",
   "execution_count": 11,
   "id": "08d7d86b",
   "metadata": {},
   "outputs": [
    {
     "name": "stdout",
     "output_type": "stream",
     "text": [
      "first_name - warren\n",
      "last_name - buffett\n",
      "age - 85\n",
      "city - omaha\n"
     ]
    },
    {
     "data": {
      "text/plain": [
       "[None, None, None, None]"
      ]
     },
     "execution_count": 11,
     "metadata": {},
     "output_type": "execute_result"
    }
   ],
   "source": [
    "person = dict(first_name = 'warren',\n",
    "             last_name = 'buffett',\n",
    "             age = 85,\n",
    "             city = 'omaha')\n",
    "\n",
    "[print(fn , '-', ln) for fn, ln in person.items()]"
   ]
  },
  {
   "cell_type": "markdown",
   "id": "60cee44d",
   "metadata": {},
   "source": [
    "## 6-2 Favorite Number - Looping through Dictionary"
   ]
  },
  {
   "cell_type": "code",
   "execution_count": 12,
   "id": "e1724293",
   "metadata": {},
   "outputs": [
    {
     "name": "stdout",
     "output_type": "stream",
     "text": [
      "Mike's favorite number is 72.'\n",
      "Tom's favorite number is 29.'\n",
      "Leslie's favorite number is 65.'\n",
      "Alex's favorite number is 92.'\n",
      "Alan's favorite number is 38.'\n"
     ]
    }
   ],
   "source": [
    "fav_num = {'mike': 72,\n",
    "              'tom': 29,\n",
    "              'leslie': 65,\n",
    "              'alex': 92,\n",
    "              'alan': 38}\n",
    "\n",
    "for k, v in fav_num.items():\n",
    "    print(f\"{k.title()}'s favorite number is {v}.'\")"
   ]
  },
  {
   "cell_type": "code",
   "execution_count": 13,
   "id": "fc9230b8",
   "metadata": {},
   "outputs": [
    {
     "name": "stdout",
     "output_type": "stream",
     "text": [
      "The Key is Mike.\n",
      "The Key is Tom.\n",
      "The Key is Leslie.\n",
      "The Key is Alex.\n",
      "The Key is Alan.\n"
     ]
    }
   ],
   "source": [
    "for k in fav_num.keys():\n",
    "    print(f\"The Key is {k.title()}.\")"
   ]
  },
  {
   "cell_type": "code",
   "execution_count": 14,
   "id": "a41ec62e",
   "metadata": {},
   "outputs": [
    {
     "name": "stdout",
     "output_type": "stream",
     "text": [
      "The Key is 72.\n",
      "The Key is 29.\n",
      "The Key is 65.\n",
      "The Key is 92.\n",
      "The Key is 38.\n"
     ]
    }
   ],
   "source": [
    "for v in fav_num.values():\n",
    "    print(f\"The Key is {v}.\")"
   ]
  },
  {
   "cell_type": "code",
   "execution_count": 15,
   "id": "33c97429",
   "metadata": {},
   "outputs": [
    {
     "name": "stdout",
     "output_type": "stream",
     "text": [
      "Jen's favorite language is Python.\n",
      "Sarah's favorite language is C.\n",
      "Edward's favorite language is Rust.\n",
      "Phil's favorite language is Python.\n"
     ]
    }
   ],
   "source": [
    "favorite_language = {\n",
    "    'jen': 'python',\n",
    "    'sarah': 'c',\n",
    "    'edward': 'rust',\n",
    "    'phil': 'python'\n",
    "}\n",
    "\n",
    "# Get everyone's favorite language\n",
    "\n",
    "for k, v in favorite_language.items():\n",
    "    print(f\"{k.title()}'s favorite language is {v.title()}.\")"
   ]
  },
  {
   "cell_type": "code",
   "execution_count": 16,
   "id": "de4c12d4",
   "metadata": {},
   "outputs": [
    {
     "data": {
      "text/plain": [
       "{'c', 'python', 'rust'}"
      ]
     },
     "execution_count": 16,
     "metadata": {},
     "output_type": "execute_result"
    }
   ],
   "source": [
    "{v for v in favorite_language.values()}"
   ]
  },
  {
   "cell_type": "code",
   "execution_count": 17,
   "id": "5f56742e",
   "metadata": {},
   "outputs": [
    {
     "data": {
      "text/plain": [
       "{'jen': 'python', 'sarah': 'c', 'edward': 'rust', 'phil': 'python'}"
      ]
     },
     "execution_count": 17,
     "metadata": {},
     "output_type": "execute_result"
    }
   ],
   "source": [
    "{k:v for k, v in favorite_language.items()}"
   ]
  },
  {
   "cell_type": "code",
   "execution_count": 18,
   "id": "001f619a",
   "metadata": {},
   "outputs": [
    {
     "data": {
      "text/plain": [
       "{'Jen': 'Python', 'Sarah': 'C', 'Edward': 'Rust', 'Phil': 'Python'}"
      ]
     },
     "execution_count": 18,
     "metadata": {},
     "output_type": "execute_result"
    }
   ],
   "source": [
    "{k.title(): v.title() for k, v in favorite_language.items()}"
   ]
  },
  {
   "cell_type": "code",
   "execution_count": 19,
   "id": "ccb244ed",
   "metadata": {},
   "outputs": [
    {
     "name": "stdout",
     "output_type": "stream",
     "text": [
      "Python\n",
      "C\n",
      "Rust\n",
      "Python\n"
     ]
    }
   ],
   "source": [
    "for language in favorite_language.values():\n",
    "    print(language.title())"
   ]
  },
  {
   "cell_type": "markdown",
   "id": "b7621868",
   "metadata": {},
   "source": [
    "List comprehension returns a set of values. Note that the set does not retain the order."
   ]
  },
  {
   "cell_type": "code",
   "execution_count": 20,
   "id": "c3a6bcb9",
   "metadata": {},
   "outputs": [
    {
     "data": {
      "text/plain": [
       "{'C', 'Python', 'Rust'}"
      ]
     },
     "execution_count": 20,
     "metadata": {},
     "output_type": "execute_result"
    }
   ],
   "source": [
    "{l.title() for l in favorite_language.values()}"
   ]
  },
  {
   "cell_type": "markdown",
   "id": "75703276",
   "metadata": {},
   "source": [
    "A list of dictionaries"
   ]
  },
  {
   "cell_type": "code",
   "execution_count": 21,
   "id": "b85cb018",
   "metadata": {},
   "outputs": [
    {
     "name": "stdout",
     "output_type": "stream",
     "text": [
      "{'color': 'green', 'points': 5}\n",
      "{'color': 'yellow', 'points': 10}\n",
      "{'color': 'red', 'points': 15}\n"
     ]
    }
   ],
   "source": [
    "alien_0 = dict(color = 'green', points = 5)\n",
    "alien_1 = dict(color = 'yellow', points = 10)\n",
    "alien_2 = dict(color = 'red', points = 15)\n",
    "\n",
    "aliens = [alien_0, alien_1, alien_2]\n",
    "\n",
    "for alien in aliens:\n",
    "    print(alien)"
   ]
  },
  {
   "cell_type": "code",
   "execution_count": 22,
   "id": "bbe16cac",
   "metadata": {},
   "outputs": [
    {
     "name": "stdout",
     "output_type": "stream",
     "text": [
      "The total number of aliens is 30\n",
      "\n",
      ", [{'color': 'green', 'points': 5, 'speed': 'slow'}, {'color': 'green', 'points': 5, 'speed': 'slow'}, {'color': 'green', 'points': 5, 'speed': 'slow'}, {'color': 'green', 'points': 5, 'speed': 'slow'}, {'color': 'green', 'points': 5, 'speed': 'slow'}]\n"
     ]
    }
   ],
   "source": [
    "aliens = []\n",
    "\n",
    "for alien_number in range(30):\n",
    "    \n",
    "    new_alien = dict(color = 'green', points = 5, speed = 'slow')\n",
    "    aliens.append(new_alien)\n",
    "print(f\"The total number of aliens is {len(aliens)}\")\n",
    "\n",
    "print(f\"\\n, {aliens[:5]}\")"
   ]
  },
  {
   "cell_type": "code",
   "execution_count": 23,
   "id": "eeb585b9",
   "metadata": {},
   "outputs": [
    {
     "name": "stdout",
     "output_type": "stream",
     "text": [
      "{'color': 'yellow', 'points': 10, 'speed': 'medium'}\n",
      "{'color': 'yellow', 'points': 10, 'speed': 'medium'}\n",
      "{'color': 'yellow', 'points': 10, 'speed': 'medium'}\n",
      "{'color': 'green', 'points': 5, 'speed': 'slow'}\n",
      "{'color': 'green', 'points': 5, 'speed': 'slow'}\n",
      "\n",
      "The total number of aliens is 30\n"
     ]
    }
   ],
   "source": [
    "aliens = []\n",
    "\n",
    "for alien_number in range(30):\n",
    "    \n",
    "    new_alien = dict(color = 'green', points = 5, speed = 'slow')\n",
    "    aliens.append(new_alien)\n",
    "    \n",
    "\n",
    "for alien in aliens[:3]:\n",
    "    if alien['color'] == 'green':\n",
    "        alien['color'] = 'yellow'\n",
    "        alien['speed'] = 'medium'\n",
    "        alien['points'] = 10\n",
    "        \n",
    "for a in aliens[:5]:\n",
    "    print(a)\n",
    "        \n",
    "print(f\"\\nThe total number of aliens is {len(aliens)}\")"
   ]
  },
  {
   "cell_type": "code",
   "execution_count": 24,
   "id": "bbb33b5b",
   "metadata": {},
   "outputs": [],
   "source": [
    "favorite_languages = {\n",
    "    'jen': ['python', 'rust'],\n",
    "    'sarah': ['c'],\n",
    "    'edwards':['rust', 'go'],\n",
    "    'phil': ['python', 'haskell']\n",
    "}"
   ]
  },
  {
   "cell_type": "code",
   "execution_count": 25,
   "id": "d9a5b3b6",
   "metadata": {},
   "outputs": [
    {
     "name": "stdout",
     "output_type": "stream",
     "text": [
      "\n",
      "Jen's favorite language are: \n",
      "\tPython\n",
      "\tRust\n",
      "\n",
      "Sarah's favorite language are: \n",
      "\tC\n",
      "\n",
      "Edwards's favorite language are: \n",
      "\tRust\n",
      "\tGo\n",
      "\n",
      "Phil's favorite language are: \n",
      "\tPython\n",
      "\tHaskell\n"
     ]
    }
   ],
   "source": [
    "for name, languages in favorite_languages.items():\n",
    "    print(f\"\\n{name.title()}'s favorite language are: \")\n",
    "    for language in languages:\n",
    "        print(f\"\\t{language.title()}\")"
   ]
  },
  {
   "cell_type": "markdown",
   "id": "0c8515a4",
   "metadata": {},
   "source": [
    "A Dictionary in a Dictionary"
   ]
  },
  {
   "cell_type": "code",
   "execution_count": 26,
   "id": "6f1114ee",
   "metadata": {},
   "outputs": [
    {
     "data": {
      "text/plain": [
       "{'aeinstein': {'first': 'albert', 'last': 'einstein', 'location': 'princeton'},\n",
       " 'mcurie': {'first': 'marie', 'last': 'curie', 'location': 'paris'}}"
      ]
     },
     "execution_count": 26,
     "metadata": {},
     "output_type": "execute_result"
    }
   ],
   "source": [
    "users = dict(aeinstein = dict(\n",
    "    first = 'albert',\n",
    "    last = 'einstein',\n",
    "    location = 'princeton'),\n",
    "           mcurie = dict(\n",
    "    first = 'marie',\n",
    "    last = 'curie',\n",
    "    location = 'paris'))\n",
    "users"
   ]
  },
  {
   "cell_type": "code",
   "execution_count": 27,
   "id": "adf15ffc",
   "metadata": {},
   "outputs": [
    {
     "name": "stdout",
     "output_type": "stream",
     "text": [
      "\n",
      "Username: aeinstein\n",
      "\tFull Name: Albert Einstein\n",
      "\tLocation: Princeton\n",
      "\n",
      "Username: mcurie\n",
      "\tFull Name: Marie Curie\n",
      "\tLocation: Paris\n"
     ]
    }
   ],
   "source": [
    "for username, user_info in users.items():\n",
    "    print(f\"\\nUsername: {username}\")\n",
    "    full_name = f\"{user_info['first']} {user_info['last']}\"\n",
    "    location = f\"{user_info['location']}\"\n",
    "    \n",
    "    print(f\"\\tFull Name: {full_name.title()}\")\n",
    "    print(f\"\\tLocation: {location.title()}\")"
   ]
  },
  {
   "cell_type": "code",
   "execution_count": null,
   "id": "07abea4b",
   "metadata": {},
   "outputs": [],
   "source": []
  },
  {
   "cell_type": "code",
   "execution_count": null,
   "id": "ee2f4906",
   "metadata": {},
   "outputs": [],
   "source": []
  }
 ],
 "metadata": {
  "kernelspec": {
   "display_name": "Python 3 (ipykernel)",
   "language": "python",
   "name": "python3"
  },
  "language_info": {
   "codemirror_mode": {
    "name": "ipython",
    "version": 3
   },
   "file_extension": ".py",
   "mimetype": "text/x-python",
   "name": "python",
   "nbconvert_exporter": "python",
   "pygments_lexer": "ipython3",
   "version": "3.9.7"
  }
 },
 "nbformat": 4,
 "nbformat_minor": 5
}
